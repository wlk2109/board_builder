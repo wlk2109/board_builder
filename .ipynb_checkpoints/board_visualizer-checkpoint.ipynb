{
 "cells": [
  {
   "cell_type": "code",
   "execution_count": 1,
   "metadata": {},
   "outputs": [],
   "source": [
    "import numpy as np\n",
    "import matplotlib"
   ]
  },
  {
   "cell_type": "code",
   "execution_count": null,
   "metadata": {},
   "outputs": [],
   "source": [
    "DRAGONS = [46,48,50,64,66,68]\n",
    "EXIT = [78]\n",
    "FLOOR = [2,11,10,19,28,29,30,21,\n",
    "         22,23,14,15,16,25,34,33,\n",
    "         42,51,52,60,61,69,70,59,\n",
    "         58,57,56,55,65,47,38]\n",
    "\n",
    "\n",
    "DRAGON_IMG = 'imgs/dragon.png'\n",
    "EXIT_IMG   = 'imgs/dragon.png'\n",
    "GNOME_IMG  = 'imgs/dragon.png'\n",
    "FLOOR_IMG  = 'imgs/dragon.png'\n",
    "ROCK_IMG   ='imgs/dragon.png'\n",
    "\n",
    "LEFT_IMG  ='imgs/left.png'\n",
    "RIGHT_IMG ='imgs/right.png'\n",
    "UP_IMG    ='imgs/up.png'\n",
    "DOWN_IMG  ='imgs/down.png'\n"
   ]
  },
  {
   "cell_type": "code",
   "execution_count": 2,
   "metadata": {},
   "outputs": [
    {
     "ename": "SyntaxError",
     "evalue": "'return' outside function (<ipython-input-2-a2209f35039f>, line 16)",
     "output_type": "error",
     "traceback": [
      "\u001b[0;36m  File \u001b[0;32m\"<ipython-input-2-a2209f35039f>\"\u001b[0;36m, line \u001b[0;32m16\u001b[0m\n\u001b[0;31m    return board\u001b[0m\n\u001b[0m                ^\u001b[0m\n\u001b[0;31mSyntaxError\u001b[0m\u001b[0;31m:\u001b[0m 'return' outside function\n"
     ]
    }
   ],
   "source": [
    "def init_board(dragons, exits, gnomes, floors):\n",
    "    # fill in board images\n",
    "    board = [rock]\n",
    "    for i in range(1,81):\n",
    "        if i+1 in DRAGONS:\n",
    "            board.append(dragon)\n",
    "        elif i+1 in EXIT:\n",
    "            board.append(exit)\n",
    "        elif i+1 in gnome:\n",
    "            board.append(gnome)\n",
    "        elif i+1 in floors:\n",
    "            board.append(floor)\n",
    "        else:\n",
    "            board.append(rock)\n",
    "    board = np.array(board).reshape((9,9)).transpose().flatten()\n",
    "    return board"
   ]
  },
  {
   "cell_type": "code",
   "execution_count": null,
   "metadata": {},
   "outputs": [],
   "source": [
    "\n",
    "def draw_board(board):\n",
    "    plt.figure(figsize = (9,9))\n",
    "    gs1 = gridspec.GridSpec(9, 9)\n",
    "    gs1.update(wspace=0.0, hspace=0.0) # set the spacing between axes.\n",
    "    for i in range(81):\n",
    "        # i = i + 1 # grid spec indexes from 0\n",
    "        ax1 = plt.subplot(gs1[i])\n",
    "        plt.axis(’on’)\n",
    "        #ax1.imshow(states[picture_indices[i]])\n",
    "        ax1.imshow(board[i])\n",
    "        ax1.set_xticklabels([])\n",
    "        ax1.set_yticklabels([])\n",
    "        ax1.set_aspect(’equal’)\n",
    "    plt.show()"
   ]
  }
 ],
 "metadata": {
  "kernelspec": {
   "display_name": "Python 3",
   "language": "python",
   "name": "python3"
  },
  "language_info": {
   "codemirror_mode": {
    "name": "ipython",
    "version": 3
   },
   "file_extension": ".py",
   "mimetype": "text/x-python",
   "name": "python",
   "nbconvert_exporter": "python",
   "pygments_lexer": "ipython3",
   "version": "3.6.10"
  }
 },
 "nbformat": 4,
 "nbformat_minor": 4
}
